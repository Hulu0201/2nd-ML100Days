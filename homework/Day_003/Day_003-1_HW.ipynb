{
 "cells": [
  {
   "cell_type": "markdown",
   "metadata": {},
   "source": [
    "## 練習時間\n",
    "在小量的資料上，我們用眼睛就可以看得出來程式碼是否有跑出我們理想中的結果\n",
    "\n",
    "請嘗試想像一個你需要的資料結構 (裡面的值可以是隨機的)，然後用上述的方法把它變成 pandas DataFrame\n",
    "\n",
    "#### Ex: 想像一個 dataframe 有兩個欄位，一個是國家，一個是人口，求人口數最多的國家\n",
    "\n",
    "### Hints: [隨機產生數值](https://blog.csdn.net/christianashannon/article/details/78867204)"
   ]
  },
  {
   "cell_type": "code",
   "execution_count": 1,
   "metadata": {},
   "outputs": [],
   "source": [
    "import pandas as pd\n",
    "import numpy as np"
   ]
  },
  {
   "cell_type": "markdown",
   "metadata": {},
   "source": [
    "### 方法一"
   ]
  },
  {
   "cell_type": "code",
   "execution_count": 3,
   "metadata": {},
   "outputs": [
    {
     "name": "stdout",
     "output_type": "stream",
     "text": [
      "             國家         人口\n",
      "0        Taiwan    3000000\n",
      "1  Unite States   50000000\n",
      "2      Thailand  800000000\n",
      "3         Japan    9000000\n"
     ]
    }
   ],
   "source": [
    "data = {'國家': ['Taiwan', 'Unite States', 'Thailand', 'Japan'] ,\n",
    "        '人口': [3000000, 50000000, 800000000, 9000000]}\n",
    "data = pd.DataFrame(data)\n",
    "print(data)"
   ]
  },
  {
   "cell_type": "markdown",
   "metadata": {},
   "source": [
    "### 方法二\n",
    "##### 隨機產生數值"
   ]
  },
  {
   "cell_type": "code",
   "execution_count": 5,
   "metadata": {},
   "outputs": [
    {
     "name": "stdout",
     "output_type": "stream",
     "text": [
      "        country  population\n",
      "0        Taiwan    60405391\n",
      "1  Unite States   510269804\n",
      "2      Thailand   527941025\n",
      "3         Japan   398355850\n"
     ]
    }
   ],
   "source": [
    "population = np.random.randint(6000000, 700000000, 4) \n",
    "# 回傳隨機的整數numpy.random.randint(low, high=None, size=None, dtype='l')\n",
    "countries = ['Taiwan', 'Unite States', 'Thailand', 'Japan']\n",
    "\n",
    "list_labels = ['country', 'population'] #  column name\n",
    "list_cols = [countries, population] # variable\n",
    "\n",
    "zipped = list(zip(list_labels, list_cols))\n",
    "# Note: The zip() function returns a special zip object, which is essentially a generator.\n",
    "# To convert this zip object into a list, you'll need to use list(). \n",
    "\n",
    "data_2 = pd.DataFrame(dict(zipped))\n",
    "print(data_2)"
   ]
  },
  {
   "cell_type": "markdown",
   "metadata": {},
   "source": [
    "### 人口數最多的國家"
   ]
  },
  {
   "cell_type": "code",
   "execution_count": 14,
   "metadata": {},
   "outputs": [
    {
     "data": {
      "text/plain": [
       "國家    Unite States\n",
       "人口       800000000\n",
       "dtype: object"
      ]
     },
     "execution_count": 14,
     "metadata": {},
     "output_type": "execute_result"
    }
   ],
   "source": [
    "data.max()"
   ]
  },
  {
   "cell_type": "code",
   "execution_count": 15,
   "metadata": {},
   "outputs": [
    {
     "data": {
      "text/plain": [
       "country       Unite States\n",
       "population       527941025\n",
       "dtype: object"
      ]
     },
     "execution_count": 15,
     "metadata": {},
     "output_type": "execute_result"
    }
   ],
   "source": [
    "data_2.max()"
   ]
  },
  {
   "cell_type": "code",
   "execution_count": null,
   "metadata": {},
   "outputs": [],
   "source": []
  }
 ],
 "metadata": {
  "kernelspec": {
   "display_name": "Python 3",
   "language": "python",
   "name": "python3"
  },
  "language_info": {
   "codemirror_mode": {
    "name": "ipython",
    "version": 3
   },
   "file_extension": ".py",
   "mimetype": "text/x-python",
   "name": "python",
   "nbconvert_exporter": "python",
   "pygments_lexer": "ipython3",
   "version": "3.7.3"
  }
 },
 "nbformat": 4,
 "nbformat_minor": 2
}
